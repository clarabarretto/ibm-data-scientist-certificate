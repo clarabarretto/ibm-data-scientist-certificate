{
 "cells": [
  {
   "cell_type": "markdown",
   "metadata": {},
   "source": [
    "## My Data Science Notebook\n",
    " This notebook explores various aspects of data science, including programming languages, libraries, and tools commonly used in the field. We'll cover some basic concepts and provide a starting point for further exploration."
   ]
  },
  {
   "cell_type": "markdown",
   "metadata": {},
   "source": [
    "### Here are some popular languages used in Data Science:\n",
    " * Python\n",
    " * R\n",
    " * SQL\n",
    " * Scala\n",
    " * Java\n",
    " * Julia\n",
    " * C++"
   ]
  },
  {
   "cell_type": "markdown",
   "metadata": {},
   "source": [
    "### Here are some widely used libraries in Data Science:\n",
    "\n",
    " * **Python:** Pandas, NumPy, Scikit-learn, TensorFlow, PyTorch, Matplotlib, Seaborn\n",
    " * **R:** dplyr, ggplot2, tidyr, caret"
   ]
  },
  {
   "cell_type": "markdown",
   "metadata": {},
   "source": [
    "| Tool           | Description                                   |\n",
    "|----------------|-----------------------------------------------|\n",
    "| Jupyter Notebook | Interactive computing environment             |\n",
    "| RStudio         | Integrated development environment for R      |\n",
    "| VS Code         | Versatile code editor with extensions        |\n",
    "| Git             | Version control system                         |\n",
    "| Docker          | Containerization platform                      |\n",
    "| SQL Databases   | Relational databases for structured data       |\n",
    "| Cloud Platforms (AWS, Azure, GCP) | Cloud-based resources for data storage, processing, and analysis |"
   ]
  },
  {
   "cell_type": "markdown",
   "metadata": {},
   "source": [
    "### This section demonstrates basic arithmetic operations in Python.\n",
    "\n",
    "**Examples:**\n",
    "* Addition: `2 + 3 = 5`\n",
    "* Subtraction: `10 - 4 = 6`\n",
    "* Multiplication: `5 * 6 = 30`\n",
    "* Division: `15 / 3 = 5`\n",
    "* Exponentiation: `2 ** 3 = 8` (2 raised to the power of 3)\n",
    "* Modulo (Remainder): `10 % 3 = 1` (remainder when 10 is divided by 3)\n",
    "* Order of Operations (PEMDAS/BODMAS): Parentheses/Brackets, Exponents/Orders, Multiplication and Division, Addition and Subtraction"
   ]
  },
  {
   "cell_type": "code",
   "execution_count": 28,
   "metadata": {},
   "outputs": [
    {
     "name": "stdout",
     "output_type": "stream",
     "text": [
      "The product of 5 and 10 is: 50\n",
      "The sum of the product and 2 is: 52\n"
     ]
    }
   ],
   "source": [
    "num1 = 5\n",
    "num2 = 10\n",
    "num3 = 2\n",
    "\n",
    "result_multiply = num1 * num2\n",
    "result_add = result_multiply + num3\n",
    "\n",
    "print(f\"The product of {num1} and {num2} is: {result_multiply}\")\n",
    "print(f\"The sum of the product and {num3} is: {result_add}\")"
   ]
  },
  {
   "cell_type": "code",
   "execution_count": 29,
   "metadata": {},
   "outputs": [
    {
     "name": "stdout",
     "output_type": "stream",
     "text": [
      "150 minutes is equal to 2.5 hours\n"
     ]
    }
   ],
   "source": [
    "minutes = 150\n",
    "hours = minutes / 60\n",
    "\n",
    "print(f\"{minutes} minutes is equal to {hours} hours\")\n"
   ]
  },
  {
   "cell_type": "markdown",
   "metadata": {},
   "source": [
    "### In this notebook, we aim to achieve the following:\n",
    "* List popular languages for Data Science.\n",
    "* Demonstrate basic arithmetic operations.\n",
    "* Convert minutes to hours.\n",
    "* Showcase the use of Markdown cells.\n",
    "* Understand the importance of version control and collaborative environments.\n",
    "\n",
    "Author: Maria Clara Barretto\n"
   ]
  }
 ],
 "metadata": {
  "kernelspec": {
   "display_name": "Python 3",
   "language": "python",
   "name": "python3"
  },
  "language_info": {
   "codemirror_mode": {
    "name": "ipython",
    "version": 3
   },
   "file_extension": ".py",
   "mimetype": "text/x-python",
   "name": "python",
   "nbconvert_exporter": "python",
   "pygments_lexer": "ipython3",
   "version": "3.12.4"
  }
 },
 "nbformat": 4,
 "nbformat_minor": 2
}
